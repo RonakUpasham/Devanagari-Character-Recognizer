{
 "cells": [
  {
   "cell_type": "code",
   "execution_count": 14,
   "metadata": {},
   "outputs": [],
   "source": [
    "thresh = 0.9869"
   ]
  },
  {
   "cell_type": "code",
   "execution_count": 15,
   "metadata": {},
   "outputs": [],
   "source": [
    "from tensorflow.keras.callbacks import Callback\n",
    "class myCallback(Callback): \n",
    "    def on_epoch_end(self, epoch, logs={}): \n",
    "        if(logs.get('val_accuracy') > thresh):   \n",
    "            self.model.stop_training = True"
   ]
  },
  {
   "cell_type": "code",
   "execution_count": 16,
   "metadata": {},
   "outputs": [],
   "source": [
    "callbacks = myCallback()"
   ]
  },
  {
   "cell_type": "code",
   "execution_count": 17,
   "metadata": {},
   "outputs": [],
   "source": [
    "train_path = '/Users/kshitijaupasham/Desktop/DevanagariHandwrittenCharacterDataset/Train'\n",
    "test_path = '/Users/kshitijaupasham/Desktop/DevanagariHandwrittenCharacterDataset/Test'"
   ]
  },
  {
   "cell_type": "code",
   "execution_count": 18,
   "metadata": {},
   "outputs": [
    {
     "name": "stdout",
     "output_type": "stream",
     "text": [
      "Found 78200 images belonging to 46 classes.\n",
      "Found 13800 images belonging to 46 classes.\n"
     ]
    }
   ],
   "source": [
    "from tensorflow.keras.preprocessing.image import ImageDataGenerator\n",
    "train_datagen = ImageDataGenerator(rescale=1./255)\n",
    "test_datagen = ImageDataGenerator(rescale=1./255)\n",
    "train = train_datagen.flow_from_directory(train_path,target_size=(28, 28),color_mode='grayscale',class_mode='categorical',batch_size=32)\n",
    "test = test_datagen.flow_from_directory(test_path,target_size=(28, 28),color_mode='grayscale',class_mode='categorical',batch_size=32)"
   ]
  },
  {
   "cell_type": "code",
   "execution_count": 19,
   "metadata": {},
   "outputs": [],
   "source": [
    "from tensorflow.keras.models import Sequential\n",
    "from tensorflow.keras.layers import Dense, Dropout, Flatten, Conv2D, MaxPool2D"
   ]
  },
  {
   "cell_type": "code",
   "execution_count": 20,
   "metadata": {},
   "outputs": [],
   "source": [
    "model = Sequential()\n",
    "\n",
    "model.add(Conv2D(28,kernel_size=(3,3),activation='relu',input_shape=(28,28,1),padding='same', kernel_initializer='he_uniform'))\n",
    "model.add(MaxPool2D(pool_size=(2,2)))\n",
    "model.add(Dropout(0.2))\n",
    "\n",
    "model.add(Conv2D(56, kernel_size = (3,3),activation ='relu',padding='same', kernel_initializer='he_uniform'))\n",
    "model.add(MaxPool2D(pool_size=(2,2)))\n",
    "model.add(Dropout(0.2))\n",
    "\n",
    "model.add(Conv2D(128, kernel_size = (3,3),activation ='relu',padding='same', kernel_initializer='he_uniform'))\n",
    "model.add(MaxPool2D(pool_size=(2,2)))\n",
    "model.add(Dropout(0.2))\n",
    "\n",
    "\n",
    "model.add(Flatten())\n",
    "model.add(Dense(512, activation = \"relu\", kernel_initializer='he_uniform'))\n",
    "model.add(Dropout(0.2))\n",
    "model.add(Dense(256, activation = \"relu\", kernel_initializer='he_uniform'))\n",
    "model.add(Dropout(0.2))\n",
    "model.add(Dense(128, activation = \"relu\", kernel_initializer='he_uniform'))\n",
    "model.add(Dropout(0.2))\n",
    "model.add(Dense(64, activation = \"relu\", kernel_initializer='he_uniform'))\n",
    "model.add(Dropout(0.2))\n",
    "model.add(Dense(46, activation = \"softmax\"))"
   ]
  },
  {
   "cell_type": "code",
   "execution_count": 21,
   "metadata": {},
   "outputs": [],
   "source": [
    "model.compile(optimizer='adam', loss='categorical_crossentropy', metrics=['accuracy'])"
   ]
  },
  {
   "cell_type": "code",
   "execution_count": 22,
   "metadata": {},
   "outputs": [
    {
     "name": "stdout",
     "output_type": "stream",
     "text": [
      "Model: \"sequential_1\"\n",
      "_________________________________________________________________\n",
      "Layer (type)                 Output Shape              Param #   \n",
      "=================================================================\n",
      "conv2d_3 (Conv2D)            (None, 28, 28, 28)        280       \n",
      "_________________________________________________________________\n",
      "max_pooling2d_3 (MaxPooling2 (None, 14, 14, 28)        0         \n",
      "_________________________________________________________________\n",
      "dropout_7 (Dropout)          (None, 14, 14, 28)        0         \n",
      "_________________________________________________________________\n",
      "conv2d_4 (Conv2D)            (None, 14, 14, 56)        14168     \n",
      "_________________________________________________________________\n",
      "max_pooling2d_4 (MaxPooling2 (None, 7, 7, 56)          0         \n",
      "_________________________________________________________________\n",
      "dropout_8 (Dropout)          (None, 7, 7, 56)          0         \n",
      "_________________________________________________________________\n",
      "conv2d_5 (Conv2D)            (None, 7, 7, 128)         64640     \n",
      "_________________________________________________________________\n",
      "max_pooling2d_5 (MaxPooling2 (None, 3, 3, 128)         0         \n",
      "_________________________________________________________________\n",
      "dropout_9 (Dropout)          (None, 3, 3, 128)         0         \n",
      "_________________________________________________________________\n",
      "flatten_1 (Flatten)          (None, 1152)              0         \n",
      "_________________________________________________________________\n",
      "dense_5 (Dense)              (None, 512)               590336    \n",
      "_________________________________________________________________\n",
      "dropout_10 (Dropout)         (None, 512)               0         \n",
      "_________________________________________________________________\n",
      "dense_6 (Dense)              (None, 256)               131328    \n",
      "_________________________________________________________________\n",
      "dropout_11 (Dropout)         (None, 256)               0         \n",
      "_________________________________________________________________\n",
      "dense_7 (Dense)              (None, 128)               32896     \n",
      "_________________________________________________________________\n",
      "dropout_12 (Dropout)         (None, 128)               0         \n",
      "_________________________________________________________________\n",
      "dense_8 (Dense)              (None, 64)                8256      \n",
      "_________________________________________________________________\n",
      "dropout_13 (Dropout)         (None, 64)                0         \n",
      "_________________________________________________________________\n",
      "dense_9 (Dense)              (None, 46)                2990      \n",
      "=================================================================\n",
      "Total params: 844,894\n",
      "Trainable params: 844,894\n",
      "Non-trainable params: 0\n",
      "_________________________________________________________________\n"
     ]
    }
   ],
   "source": [
    "model.summary()"
   ]
  },
  {
   "cell_type": "code",
   "execution_count": 23,
   "metadata": {
    "scrolled": false
   },
   "outputs": [
    {
     "name": "stdout",
     "output_type": "stream",
     "text": [
      "Epoch 1/30\n",
      "2443/2443 [==============================] - 136s 56ms/step - loss: 1.5306 - accuracy: 0.5698 - val_loss: 0.2544 - val_accuracy: 0.9259\n",
      "Epoch 2/30\n",
      "2443/2443 [==============================] - 134s 55ms/step - loss: 0.4127 - accuracy: 0.8856 - val_loss: 0.1437 - val_accuracy: 0.9578\n",
      "Epoch 3/30\n",
      "2443/2443 [==============================] - 132s 54ms/step - loss: 0.2969 - accuracy: 0.9208 - val_loss: 0.1228 - val_accuracy: 0.9660\n",
      "Epoch 4/30\n",
      "2443/2443 [==============================] - 131s 53ms/step - loss: 0.2346 - accuracy: 0.9384 - val_loss: 0.1106 - val_accuracy: 0.9711\n",
      "Epoch 5/30\n",
      "2443/2443 [==============================] - 127s 52ms/step - loss: 0.2068 - accuracy: 0.9461 - val_loss: 0.0855 - val_accuracy: 0.9779\n",
      "Epoch 6/30\n",
      "2443/2443 [==============================] - 129s 53ms/step - loss: 0.1908 - accuracy: 0.9519 - val_loss: 0.0854 - val_accuracy: 0.9785\n",
      "Epoch 7/30\n",
      "2443/2443 [==============================] - 131s 53ms/step - loss: 0.1705 - accuracy: 0.9568 - val_loss: 0.0827 - val_accuracy: 0.9801\n",
      "Epoch 8/30\n",
      "2443/2443 [==============================] - 129s 53ms/step - loss: 0.1602 - accuracy: 0.9611 - val_loss: 0.0811 - val_accuracy: 0.9814\n",
      "Epoch 9/30\n",
      "2443/2443 [==============================] - 129s 53ms/step - loss: 0.1459 - accuracy: 0.9631 - val_loss: 0.0893 - val_accuracy: 0.9793\n",
      "Epoch 10/30\n",
      "2443/2443 [==============================] - 130s 53ms/step - loss: 0.1459 - accuracy: 0.9643 - val_loss: 0.0818 - val_accuracy: 0.9812\n",
      "Epoch 11/30\n",
      "2443/2443 [==============================] - 129s 53ms/step - loss: 0.1325 - accuracy: 0.9676 - val_loss: 0.0895 - val_accuracy: 0.9804\n",
      "Epoch 12/30\n",
      "2443/2443 [==============================] - 132s 54ms/step - loss: 0.1289 - accuracy: 0.9682 - val_loss: 0.0720 - val_accuracy: 0.9857\n",
      "Epoch 13/30\n",
      "2443/2443 [==============================] - 143s 59ms/step - loss: 0.1284 - accuracy: 0.9688 - val_loss: 0.0765 - val_accuracy: 0.9843\n",
      "Epoch 14/30\n",
      "2443/2443 [==============================] - 132s 54ms/step - loss: 0.1265 - accuracy: 0.9696 - val_loss: 0.0677 - val_accuracy: 0.9853\n",
      "Epoch 15/30\n",
      "2443/2443 [==============================] - 128s 53ms/step - loss: 0.1202 - accuracy: 0.9714 - val_loss: 0.0711 - val_accuracy: 0.9849\n",
      "Epoch 16/30\n",
      "2443/2443 [==============================] - 129s 53ms/step - loss: 0.1182 - accuracy: 0.9720 - val_loss: 0.0686 - val_accuracy: 0.9851\n",
      "Epoch 17/30\n",
      "2443/2443 [==============================] - 131s 54ms/step - loss: 0.1209 - accuracy: 0.9718 - val_loss: 0.0724 - val_accuracy: 0.9852\n",
      "Epoch 18/30\n",
      "2443/2443 [==============================] - 136s 56ms/step - loss: 0.1162 - accuracy: 0.9729 - val_loss: 0.0768 - val_accuracy: 0.9844\n",
      "Epoch 19/30\n",
      "2443/2443 [==============================] - 127s 52ms/step - loss: 0.1146 - accuracy: 0.9729 - val_loss: 0.0759 - val_accuracy: 0.9857\n",
      "Epoch 20/30\n",
      "2443/2443 [==============================] - 128s 52ms/step - loss: 0.1117 - accuracy: 0.9739 - val_loss: 0.0672 - val_accuracy: 0.9857\n",
      "Epoch 21/30\n",
      "2443/2443 [==============================] - 129s 53ms/step - loss: 0.1116 - accuracy: 0.9750 - val_loss: 0.0735 - val_accuracy: 0.9846\n",
      "Epoch 22/30\n",
      "2443/2443 [==============================] - 129s 53ms/step - loss: 0.1143 - accuracy: 0.9738 - val_loss: 0.0727 - val_accuracy: 0.9844\n",
      "Epoch 23/30\n",
      "2443/2443 [==============================] - 131s 53ms/step - loss: 0.1084 - accuracy: 0.9757 - val_loss: 0.0731 - val_accuracy: 0.9867\n",
      "Epoch 24/30\n",
      "2443/2443 [==============================] - 128s 52ms/step - loss: 0.1085 - accuracy: 0.9753 - val_loss: 0.0744 - val_accuracy: 0.9856\n",
      "Epoch 25/30\n",
      "2443/2443 [==============================] - 130s 53ms/step - loss: 0.1110 - accuracy: 0.9744 - val_loss: 0.0727 - val_accuracy: 0.9864\n",
      "Epoch 26/30\n",
      "2443/2443 [==============================] - 132s 54ms/step - loss: 0.1069 - accuracy: 0.9760 - val_loss: 0.0731 - val_accuracy: 0.9865\n",
      "Epoch 27/30\n",
      "2443/2443 [==============================] - 134s 55ms/step - loss: 0.1041 - accuracy: 0.9767 - val_loss: 0.0797 - val_accuracy: 0.9862\n",
      "Epoch 28/30\n",
      "2443/2443 [==============================] - 134s 55ms/step - loss: 0.1080 - accuracy: 0.9756 - val_loss: 0.0859 - val_accuracy: 0.9853\n",
      "Epoch 29/30\n",
      "2443/2443 [==============================] - 132s 54ms/step - loss: 0.1104 - accuracy: 0.9755 - val_loss: 0.0725 - val_accuracy: 0.9866\n",
      "Epoch 30/30\n",
      "2443/2443 [==============================] - 134s 55ms/step - loss: 0.1050 - accuracy: 0.9772 - val_loss: 0.0762 - val_accuracy: 0.9876\n"
     ]
    }
   ],
   "source": [
    "train_steps=train.n//train.batch_size\n",
    "validation_steps=test.n//test.batch_size\n",
    "history = model.fit(train,steps_per_epoch=train_steps,validation_data=test,validation_steps=validation_steps,epochs=30, callbacks=[callbacks])"
   ]
  },
  {
   "cell_type": "code",
   "execution_count": 11,
   "metadata": {},
   "outputs": [
    {
     "data": {
      "image/png": "[encoded data removed]",
      "text/plain": [
       "<Figure size 432x288 with 1 Axes>"
      ]
     },
     "metadata": {
      "needs_background": "light"
     },
     "output_type": "display_data"
    },
    {
     "data": {
      "image/png": "[encoded data removed]",
      "text/plain": [
       "<Figure size 432x288 with 1 Axes>"
      ]
     },
     "metadata": {
      "needs_background": "light"
     },
     "output_type": "display_data"
    }
   ],
   "source": [
    "import matplotlib.pyplot as plt\n",
    "\n",
    "plt.plot(history.history['accuracy'])\n",
    "plt.plot(history.history['val_accuracy'])\n",
    "plt.title('model accuracy')\n",
    "plt.ylabel('accuracy')\n",
    "plt.xlabel('epoch')\n",
    "plt.legend(['train', 'test'], loc='lower right')\n",
    "plt.show()\n",
    "\n",
    "plt.plot(history.history['loss'])\n",
    "plt.plot(history.history['val_loss'])\n",
    "plt.title('model loss')\n",
    "plt.ylabel('loss')\n",
    "plt.xlabel('epoch')\n",
    "plt.legend(['train', 'test'], loc='upper right')\n",
    "plt.show()"
   ]
  },
  {
   "cell_type": "code",
   "execution_count": 24,
   "metadata": {},
   "outputs": [
    {
     "data": {
      "text/plain": [
       "98.76"
      ]
     },
     "execution_count": 24,
     "metadata": {},
     "output_type": "execute_result"
    }
   ],
   "source": [
    "98.76"
   ]
  }
 ],
 "metadata": {
  "kernelspec": {
   "display_name": "Python 3",
   "language": "python",
   "name": "python3"
  },
  "language_info": {
   "codemirror_mode": {
    "name": "ipython",
    "version": 3
   },
   "file_extension": ".py",
   "mimetype": "text/x-python",
   "name": "python",
   "nbconvert_exporter": "python",
   "pygments_lexer": "ipython3",
   "version": "3.7.6"
  }
 },
 "nbformat": 4,
 "nbformat_minor": 4
}
